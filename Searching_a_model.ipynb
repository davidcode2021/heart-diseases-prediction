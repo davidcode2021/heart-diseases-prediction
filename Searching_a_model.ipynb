{
 "cells": [
  {
   "cell_type": "code",
   "execution_count": 1,
   "metadata": {},
   "outputs": [],
   "source": [
    "import pandas as pd\n",
    "import numpy as np\n",
    "from sklearn.model_selection import cross_val_score, KFold\n",
    "from sklearn.svm import SVC\n",
    "from sklearn.linear_model import LogisticRegression\n",
    "from sklearn.ensemble import RandomForestClassifier\n",
    "import warnings"
   ]
  },
  {
   "cell_type": "code",
   "execution_count": 2,
   "metadata": {},
   "outputs": [],
   "source": [
    "warnings.filterwarnings(\"ignore\")"
   ]
  },
  {
   "cell_type": "code",
   "execution_count": 3,
   "metadata": {},
   "outputs": [
    {
     "data": {
      "text/plain": [
       "(918, 13)"
      ]
     },
     "execution_count": 3,
     "metadata": {},
     "output_type": "execute_result"
    }
   ],
   "source": [
    "X=pd.read_csv(\"X\", index_col=[0])\n",
    "y=pd.read_csv(\"y\",index_col=[0])\n",
    "X.shape"
   ]
  },
  {
   "cell_type": "code",
   "execution_count": 4,
   "metadata": {},
   "outputs": [],
   "source": [
    "svm_classifier=SVC(kernel=\"rbf\", )\n",
    "random_classifier=RandomForestClassifier(n_estimators=200)\n",
    "logistic_regression=LogisticRegression()\n"
   ]
  },
  {
   "cell_type": "code",
   "execution_count": 5,
   "metadata": {},
   "outputs": [],
   "source": [
    "num_kfold=5\n",
    "kf=KFold(n_splits=num_kfold,shuffle=True,random_state=32)"
   ]
  },
  {
   "cell_type": "markdown",
   "metadata": {},
   "source": [
    "# SVC"
   ]
  },
  {
   "cell_type": "code",
   "execution_count": 6,
   "metadata": {},
   "outputs": [
    {
     "name": "stdout",
     "output_type": "stream",
     "text": [
      "Accuracy: [0.85869565 0.82608696 0.86413043 0.87431694 0.8852459 ]\n",
      "Mean Accuracy: 0.861695177001663\n"
     ]
    }
   ],
   "source": [
    "cross_val_result=cross_val_score(svm_classifier, X,y ,cv=kf,scoring='accuracy')\n",
    "\n",
    "print(\"Accuracy:\",cross_val_result)\n",
    "print(\"Mean Accuracy:\",np.mean(cross_val_result))                                       "
   ]
  },
  {
   "cell_type": "markdown",
   "metadata": {},
   "source": [
    "# logistic_regression"
   ]
  },
  {
   "cell_type": "code",
   "execution_count": 7,
   "metadata": {},
   "outputs": [
    {
     "name": "stdout",
     "output_type": "stream",
     "text": [
      "Accuracy: [0.84782609 0.8423913  0.84782609 0.89617486 0.84153005]\n",
      "Mean Accuracy: 0.8551496792587312\n"
     ]
    }
   ],
   "source": [
    "cross_val_result=cross_val_score(logistic_regression, X,y ,cv=kf,scoring='accuracy')\n",
    "print(\"Accuracy:\",cross_val_result)\n",
    "print(\"Mean Accuracy:\",np.mean(cross_val_result))                                       "
   ]
  },
  {
   "cell_type": "markdown",
   "metadata": {},
   "source": [
    "# random_classifier"
   ]
  },
  {
   "cell_type": "code",
   "execution_count": 8,
   "metadata": {},
   "outputs": [
    {
     "name": "stdout",
     "output_type": "stream",
     "text": [
      "Accuracy: [0.83695652 0.8423913  0.85869565 0.87978142 0.87431694]\n",
      "Mean Accuracy: 0.8584283677833214\n"
     ]
    }
   ],
   "source": [
    "cross_val_result=cross_val_score(random_classifier,X,y ,cv=kf,scoring='accuracy')\n",
    "print(\"Accuracy:\",cross_val_result)\n",
    "print(\"Mean Accuracy:\",np.mean(cross_val_result))                                       "
   ]
  },
  {
   "cell_type": "code",
   "execution_count": null,
   "metadata": {},
   "outputs": [],
   "source": []
  }
 ],
 "metadata": {
  "kernelspec": {
   "display_name": "Python 3",
   "language": "python",
   "name": "python3"
  },
  "language_info": {
   "codemirror_mode": {
    "name": "ipython",
    "version": 3
   },
   "file_extension": ".py",
   "mimetype": "text/x-python",
   "name": "python",
   "nbconvert_exporter": "python",
   "pygments_lexer": "ipython3",
   "version": "3.7.6"
  }
 },
 "nbformat": 4,
 "nbformat_minor": 4
}
